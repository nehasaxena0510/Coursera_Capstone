{
 "cells": [
  {
   "cell_type": "code",
   "execution_count": 1,
   "metadata": {},
   "outputs": [],
   "source": [
    "from bs4 import BeautifulSoup # BeautifulSoup is in bs4 package \n",
    "import requests\n",
    "import pandas as pd\n",
    "import numpy as np\n"
   ]
  },
  {
   "cell_type": "code",
   "execution_count": 2,
   "metadata": {},
   "outputs": [],
   "source": [
    "URL = 'https://en.wikipedia.org/wiki/List_of_postal_codes_of_Canada:_M'\n",
    "content = requests.get(URL)"
   ]
  },
  {
   "cell_type": "code",
   "execution_count": 50,
   "metadata": {},
   "outputs": [],
   "source": [
    "soup = BeautifulSoup(content.text, 'html.parser')\n",
    "\n",
    "column_names = ['PostalCode', 'Borough', 'Neighborhood'] \n",
    "neighbor_df = pd.DataFrame(columns=column_names)\n",
    "postalCodes = [];\n",
    "boroughs= [];\n",
    "neighbourhoods = [];"
   ]
  },
  {
   "cell_type": "code",
   "execution_count": 51,
   "metadata": {},
   "outputs": [],
   "source": [
    "first_table = soup.select_one(\"table:nth-of-type(1)\")\n",
    "for tr in first_table.find_all('tr'):\n",
    "    cols = tr.find_all('td') \n",
    "    for col in cols:\n",
    "        coltext = col.get_text()\n",
    "        #get first 3 letters in postalcode\n",
    "        postalCode = coltext[0:4]\n",
    "        postalCode = postalCode.lstrip('\\n')\n",
    "        #split by ( and take first part as borough\n",
    "        borough = coltext[4:].split(\"(\", 1)[0]\n",
    "        if borough.strip() != \"\" and borough.strip() != \"Not assigned\":\n",
    "            #take 2nd part of split as neighbourhood\n",
    "            neighbourhood = coltext[4:].split(\"(\", 1)[1]\n",
    "            neighbourhood = neighbourhood.rstrip(')\\n')\n",
    "            if neighbourhood == \"Not assigned\":\n",
    "                neighbourhood = borough\n",
    "                 \n",
    "            #add values to arrays\n",
    "            postalCodes.append(postalCode) \n",
    "            boroughs.append(borough)\n",
    "            neighbourhoods.append(neighbourhood)\n",
    "\n"
   ]
  },
  {
   "cell_type": "code",
   "execution_count": 52,
   "metadata": {},
   "outputs": [],
   "source": [
    "for data in range(len(neighbourhoods)):\n",
    "    code = postalCodes[data]\n",
    "    borough = boroughs[data]\n",
    "    neighborhood_name = neighbourhoods[data]\n",
    "    \n",
    "    neighbor_df = neighbor_df.append({ 'PostalCode': code,\n",
    "                                   'Borough': borough,\n",
    "                                   'Neighborhood': neighborhood_name}, ignore_index=True)\n"
   ]
  },
  {
   "cell_type": "code",
   "execution_count": 53,
   "metadata": {},
   "outputs": [
    {
     "data": {
      "text/plain": [
       "(103, 3)"
      ]
     },
     "execution_count": 53,
     "metadata": {},
     "output_type": "execute_result"
    }
   ],
   "source": [
    "neighbor_df.shape"
   ]
  },
  {
   "cell_type": "code",
   "execution_count": null,
   "metadata": {},
   "outputs": [],
   "source": []
  }
 ],
 "metadata": {
  "kernelspec": {
   "display_name": "Python 3",
   "language": "python",
   "name": "python3"
  },
  "language_info": {
   "codemirror_mode": {
    "name": "ipython",
    "version": 3
   },
   "file_extension": ".py",
   "mimetype": "text/x-python",
   "name": "python",
   "nbconvert_exporter": "python",
   "pygments_lexer": "ipython3",
   "version": "3.7.4"
  }
 },
 "nbformat": 4,
 "nbformat_minor": 2
}
